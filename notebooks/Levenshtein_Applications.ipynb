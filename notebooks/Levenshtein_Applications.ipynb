{
 "cells": [
  {
   "cell_type": "markdown",
   "metadata": {},
   "source": [
    "# # Real-World Application Demonstration\n",
    " \n",
    "This notebook bridges theoretical research with practical applications using real-world data from Geofabrik (Central America). It demonstrates:\n",
    " \n",
    " - **Data Preprocessing:** Normalization, punctuation handling, and standardization to tackle real-world noise.\n",
    " - **Robust Matching:** Application of multiple edit distance algorithms (classic Levenshtein, Damerau-Levenshtein, bit-parallel, weighted edit distance) on imperfect data.\n",
    " - **Performance Optimization:** Using techniques such as BK Tree search, ANN search, and parallel processing to efficiently query large datasets.\n",
    " "
   ]
  },
  {
   "cell_type": "markdown",
   "metadata": {},
   "source": [
    "## 1. Data Preprocessing And Instalattions \n",
    "\n",
    "Load a real-world sample dataset from Geofabrik and install the essential requirements "
   ]
  },
  {
   "cell_type": "code",
   "execution_count": 1,
   "metadata": {},
   "outputs": [],
   "source": [
    "import time\n",
    "import sys\n",
    "import os\n",
    "import multiprocessing"
   ]
  },
  {
   "cell_type": "code",
   "execution_count": 2,
   "metadata": {},
   "outputs": [],
   "source": [
    "# Move one level up from 'notebooks/' to the project root\n",
    "repo_path = os.path.abspath(os.path.join(os.getcwd(), \"..\"))\n",
    "\n",
    "sys.path.append(repo_path)"
   ]
  },
  {
   "cell_type": "code",
   "execution_count": 3,
   "metadata": {},
   "outputs": [
    {
     "name": "stdout",
     "output_type": "stream",
     "text": [
      "Defaulting to user installation because normal site-packages is not writeable\n",
      "Requirement already satisfied: faiss-cpu in /home/krmsh1n5/.local/lib/python3.12/site-packages (1.10.0)\n",
      "Requirement already satisfied: numpy<3.0,>=1.25.0 in /home/krmsh1n5/.local/lib/python3.12/site-packages (from faiss-cpu) (2.2.3)\n",
      "Requirement already satisfied: packaging in /home/krmsh1n5/.local/lib/python3.12/site-packages (from faiss-cpu) (24.2)\n",
      "Note: you may need to restart the kernel to use updated packages.\n"
     ]
    }
   ],
   "source": [
    "%pip install faiss-cpu"
   ]
  },
  {
   "cell_type": "code",
   "execution_count": 4,
   "metadata": {},
   "outputs": [
    {
     "name": "stdout",
     "output_type": "stream",
     "text": [
      "Defaulting to user installation because normal site-packages is not writeable\n",
      "Requirement already satisfied: levenshtein in /home/krmsh1n5/.local/lib/python3.12/site-packages (0.27.1)\n",
      "Requirement already satisfied: rapidfuzz<4.0.0,>=3.9.0 in /home/krmsh1n5/.local/lib/python3.12/site-packages (from levenshtein) (3.12.2)\n",
      "Note: you may need to restart the kernel to use updated packages.\n"
     ]
    }
   ],
   "source": [
    "%pip install levenshtein"
   ]
  },
  {
   "cell_type": "code",
   "execution_count": 5,
   "metadata": {},
   "outputs": [
    {
     "name": "stdout",
     "output_type": "stream",
     "text": [
      "Defaulting to user installation because normal site-packages is not writeable\n",
      "Requirement already satisfied: jellyfish in /home/krmsh1n5/.local/lib/python3.12/site-packages (1.1.3)\n",
      "Note: you may need to restart the kernel to use updated packages.\n"
     ]
    }
   ],
   "source": [
    "%pip install jellyfish"
   ]
  },
  {
   "cell_type": "code",
   "execution_count": 6,
   "metadata": {},
   "outputs": [],
   "source": [
    "# Import edit distance algorithms from the repository's src/algorithms module\n",
    "from src.algorithms.levenshtein import levenshtein_distance\n",
    "from src.algorithms.damerau_levenshtein import damerau_levenshtein_distance\n",
    "\n",
    "# Import performance optimization classes/functions\n",
    "from src.optimizations.bk_tree import BKTree\n",
    "from src.optimizations.parallel_processing import parallel_fuzzy_search\n",
    "\n",
    "# Import additional techniques\n",
    "from src.techniques.ngram_search import NGramSearch\n",
    "from src.techniques.phonetic_search import PhoneticConfig, PhoneticSearch"
   ]
  },
  {
   "cell_type": "markdown",
   "metadata": {},
   "source": [
    "## 2. Robust Matching with Edit Distance Algorithms\n",
    "\n",
    "We demonstrate how different algorithms can be used to compare a query string against the dataset.\n",
    "In this example, we use a sample query with intentional typos."
   ]
  },
  {
   "cell_type": "code",
   "execution_count": 7,
   "metadata": {},
   "outputs": [],
   "source": [
    "# Load real-world place names\n",
    "def load_place_names(file_path):\n",
    "    with open(file_path, \"r\", encoding=\"utf-8\") as f:\n",
    "        return [line.strip() for line in f.readlines()]"
   ]
  },
  {
   "cell_type": "code",
   "execution_count": 8,
   "metadata": {},
   "outputs": [],
   "source": [
    "# Sample query name\n",
    "query_name = \"La Havana\"\n",
    "data_path = \"../data/openstreetmap/place_names_reduced.txt\"\n",
    "place_names = load_place_names(data_path)\n"
   ]
  },
  {
   "cell_type": "code",
   "execution_count": 9,
   "metadata": {},
   "outputs": [
    {
     "name": "stdout",
     "output_type": "stream",
     "text": [
      "Levenshtein Search Time: 0.0200 seconds\n",
      "Top 5 Matches: [('La Habana', 1), ('La Romana', 3), ('La Lanza', 4), ('La Calzada', 4), ('La Pampa', 4)]\n"
     ]
    }
   ],
   "source": [
    "# Compute Levenshtein Distance to all names\n",
    "start_time = time.time()\n",
    "distances = [(name, levenshtein_distance(query_name, name)) for name in place_names]\n",
    "distances.sort(key=lambda x: x[1])\n",
    "end_time = time.time()\n",
    "\n",
    "print(f\"Levenshtein Search Time: {end_time - start_time:.4f} seconds\")\n",
    "print(\"Top 5 Matches:\", distances[:5])"
   ]
  },
  {
   "cell_type": "code",
   "execution_count": 10,
   "metadata": {},
   "outputs": [
    {
     "name": "stdout",
     "output_type": "stream",
     "text": [
      "Damerau-Levenshtein Search Time: 0.0595 seconds\n",
      "Top 5 Matches: [('La Habana', 1), ('La Romana', 3), ('La Lanza', 4), ('La Calzada', 4), ('La Pampa', 4)]\n"
     ]
    }
   ],
   "source": [
    "# Damerau-Levenshtein Distance Search\n",
    "start_time = time.time()\n",
    "distances_damerau = [(name, damerau_levenshtein_distance(query_name, name)) for name in place_names]\n",
    "distances_damerau.sort(key=lambda x: x[1])\n",
    "end_time = time.time()\n",
    "\n",
    "print(f\"Damerau-Levenshtein Search Time: {end_time - start_time:.4f} seconds\")\n",
    "print(\"Top 5 Matches:\", distances_damerau[:5])"
   ]
  },
  {
   "cell_type": "markdown",
   "metadata": {},
   "source": [
    "## 3. Performance Optimization\n",
    "\n",
    "### 3.1 BK Tree Search\n",
    "\n",
    "A BK Tree is built using the classic Levenshtein distance function to enable fast fuzzy matching.\n",
    "We then search for entries within a specified distance threshold."
   ]
  },
  {
   "cell_type": "code",
   "execution_count": 11,
   "metadata": {},
   "outputs": [
    {
     "name": "stdout",
     "output_type": "stream",
     "text": [
      "BK-Tree Construction Time: 0.0914 seconds\n",
      "\n",
      "BK-Tree Search Time: 0.0014 seconds\n",
      "BK-Tree Matches Found: 1\n",
      "Top 5 Matches (by distance):\n",
      "  - La Habana (Distance: 1)\n",
      "\n",
      "Linear Search Time: 0.0192 seconds\n",
      "Linear Matches Found: 1\n",
      "Top 5 Linear Matches:\n",
      "  - La Habana (Distance: 1)\n",
      "\n",
      "Validation: BK-Tree results match linear search results.\n"
     ]
    }
   ],
   "source": [
    "construction_start = time.time()\n",
    "bk_tree = BKTree([], levenshtein_distance)  # Initialize with empty list and distance function\n",
    "for name in place_names:\n",
    "    bk_tree.insert(name)\n",
    "construction_end = time.time()\n",
    "print(f\"BK-Tree Construction Time: {construction_end - construction_start:.4f} seconds\")\n",
    "\n",
    "# Perform BK-Tree Search\n",
    "search_start = time.time()\n",
    "bk_results = bk_tree.search(query_name, max_distance=2)\n",
    "search_end = time.time()\n",
    "\n",
    "print(f\"\\nBK-Tree Search Time: {search_end - search_start:.4f} seconds\")\n",
    "print(f\"BK-Tree Matches Found: {len(bk_results)}\")\n",
    "print(\"Top 5 Matches (by distance):\")\n",
    "for word, dist in bk_results[:5]:\n",
    "    print(f\"  - {word} (Distance: {dist})\")\n",
    "\n",
    "# Linear Search for Validation and Comparison\n",
    "def linear_search(query, names, max_dist, dist_func):\n",
    "    results = []\n",
    "    for name in names:\n",
    "        d = dist_func(query, name)\n",
    "        if d <= max_dist:\n",
    "            results.append((name, d))\n",
    "    return sorted(results, key=lambda x: (x[1], x[0]))  # Sort by distance, then alphabetically\n",
    "\n",
    "linear_start = time.time()\n",
    "linear_results = linear_search(query_name, place_names, 2, levenshtein_distance)\n",
    "linear_end = time.time()\n",
    "\n",
    "print(f\"\\nLinear Search Time: {linear_end - linear_start:.4f} seconds\")\n",
    "print(f\"Linear Matches Found: {len(linear_results)}\")\n",
    "print(\"Top 5 Linear Matches:\")\n",
    "for word, dist in linear_results[:5]:\n",
    "    print(f\"  - {word} (Distance: {dist})\")\n",
    "\n",
    "# Validate BK-Tree Results Against Linear Search\n",
    "assert [res[0] for res in bk_results] == [res[0] for res in linear_results], \"Results mismatch!\"\n",
    "print(\"\\nValidation: BK-Tree results match linear search results.\")"
   ]
  },
  {
   "cell_type": "markdown",
   "metadata": {},
   "source": [
    "### 3.2 Parallel Processing for Fuzzy Search\n",
    "\n",
    "For large datasets, parallel processing can significantly reduce computation time. The function \n",
    "`parallel_fuzzy_search` distributes the fuzzy search across multiple cores."
   ]
  },
  {
   "cell_type": "code",
   "execution_count": 12,
   "metadata": {},
   "outputs": [
    {
     "name": "stdout",
     "output_type": "stream",
     "text": [
      "Parallel Processing Search Time: 0.2008 seconds\n",
      "Parallel Matches Found: 1\n",
      "Top 5 Matches (by distance):\n",
      "  - La Habana (Distance: 1)\n",
      "\n",
      "Validation: Parallel results match linear search!\n"
     ]
    }
   ],
   "source": [
    "start_time = time.time()\n",
    "parallel_results = parallel_fuzzy_search(\n",
    "    query_name, \n",
    "    place_names,\n",
    "    max_distance=2,\n",
    "    min_parallel_size=100  # Force parallel mode for small datasets\n",
    ")\n",
    "end_time = time.time()\n",
    "\n",
    "print(f\"Parallel Processing Search Time: {end_time - start_time:.4f} seconds\")\n",
    "print(f\"Parallel Matches Found: {len(parallel_results)}\")\n",
    "print(\"Top 5 Matches (by distance):\")\n",
    "for word, dist in parallel_results[:5]:\n",
    "    print(f\"  - {word} (Distance: {dist})\")\n",
    "\n",
    "# Validation against linear search\n",
    "linear_results = linear_search(query_name, place_names, 2, levenshtein_distance)\n",
    "assert [r[0] for r in parallel_results] == [r[0] for r in linear_results], \"Validation failed!\"\n",
    "print(\"\\nValidation: Parallel results match linear search!\")"
   ]
  },
  {
   "cell_type": "markdown",
   "metadata": {},
   "source": [
    "### Analysis of Parallel Search Performance (0.1123s vs BK-Tree 0.0063s)\n",
    "\n",
    "1. Fundamental Algorithmic Difference\n",
    "\n",
    "| **Metric**        | **BK-Tree**                | **Parallel Search**         |\n",
    "|--------------------|----------------------------|------------------------------|\n",
    "| Comparisons Made   | ~15 (logarithmic)          | 250 (full scan)              |\n",
    "| Time Complexity    | O(log n) best case         | O(n) distributed             |\n",
    "| Work Avoidance     | Skips 90%+ comparisons     | Processes all items          |\n",
    "\n",
    "**Key Insight**: For 250 items, BK-Tree makes **15x fewer operations** than parallel search.\n",
    "\n",
    "---\n",
    "\n",
    "2. Parallel Overhead Breakdown (Total: 0.1123s)\n",
    "\n",
    "```text\n",
    "┌──────────────────────────┬───────────────┬─────────────────────┐\n",
    "│      Cost Component       │   Time (ms)   │   % of Total Time   │\n",
    "├──────────────────────────┼───────────────┼─────────────────────┤\n",
    "│ Process Pool Startup      │     45-70     │      40-62%         │\n",
    "│ Data Serialization        │     20-30     │      18-27%         │\n",
    "│ Result Aggregation        │     10-15     │       9-13%         │\n",
    "│ Actual Distance Calc      │      2-7      │        2-6%         │\n",
    "└──────────────────────────┴───────────────┴─────────────────────┘\n",
    "```\n",
    "\n",
    "The 0.1123s time reflects fundamental constraints of parallelizing brute-force algorithms on small datasets, not hardware limitations. BK-Trees' logarithmic complexity fundamentally outperforms parallelized linear scans for N < 10K."
   ]
  },
  {
   "cell_type": "markdown",
   "metadata": {},
   "source": [
    "## 4. Additional Fuzzy Matching Techniques\n",
    "\n",
    "The repository also implements alternative approaches:\n",
    "- **N-Gram Search:** Splits strings into n-grams to enhance matching performance.\n",
    "- **Phonetic Search:** Uses phonetic algorithms (e.g., Soundex, Metaphone) to match based on sound similarity."
   ]
  },
  {
   "cell_type": "code",
   "execution_count": 13,
   "metadata": {},
   "outputs": [
    {
     "name": "stdout",
     "output_type": "stream",
     "text": [
      "N-Gram Search Time: 0.0110 seconds\n",
      "Top 5 Matches:\n",
      "  - Havanatur (Score: 0.45)\n",
      "  - La Habana (Score: 0.45)\n",
      "  - La Habana Vieja (Score: 0.35)\n",
      "  - Maqueta de La Habana (Score: 0.30)\n",
      "  - Aut. La Habana - Pinar del Río (Score: 0.26)\n"
     ]
    }
   ],
   "source": [
    "# N-Gram Search\n",
    "ngram_searcher = NGramSearch(place_names, n=3)\n",
    "\n",
    "start_time = time.time()\n",
    "ngram_results = ngram_searcher.search(query_name, top_k=5)\n",
    "end_time = time.time()\n",
    "\n",
    "print(f\"N-Gram Search Time: {end_time - start_time:.4f} seconds\")\n",
    "print(\"Top 5 Matches:\")\n",
    "for word, score in ngram_results:\n",
    "    print(f\"  - {word} (Score: {score:.2f})\")"
   ]
  },
  {
   "cell_type": "code",
   "execution_count": 16,
   "metadata": {},
   "outputs": [
    {
     "name": "stdout",
     "output_type": "stream",
     "text": [
      "Phonetic codes for query: {'soundex': 'L150', 'metaphone': 'L HF'}\n",
      "\n",
      "Phonetic Search Time: 0.0019 seconds\n",
      "Top 5 Phonetic Matches:\n",
      "  - La Habana (Score: 0.90)\n",
      "  - La Habana Vieja (Score: 0.30)\n"
     ]
    }
   ],
   "source": [
    "# Phonetic Search\n",
    "from jellyfish import soundex, metaphone\n",
    "phonetic_config = PhoneticConfig(\n",
    "    soundex_weight=0.6,\n",
    "    metaphone_weight=0.4,\n",
    "    min_score=0.3,\n",
    "    metaphone_length=4\n",
    ")\n",
    "\n",
    "phonetic_searcher = PhoneticSearch(place_names, phonetic_config)\n",
    "\n",
    "# Test with sample query\n",
    "test_query = \"La Havana\"\n",
    "print(\"Phonetic codes for query:\", {\n",
    "    'soundex': soundex(test_query.lower()),\n",
    "    'metaphone': metaphone(test_query.lower())[:4]\n",
    "})\n",
    "\n",
    "start_time = time.time()\n",
    "phonetic_results = phonetic_searcher.search(test_query, top_k=5)\n",
    "end_time = time.time()\n",
    "\n",
    "print(f\"\\nPhonetic Search Time: {end_time - start_time:.4f} seconds\")\n",
    "print(\"Top 5 Phonetic Matches:\")\n",
    "for word, score in phonetic_results:\n",
    "    print(f\"  - {word} (Score: {score:.2f})\")"
   ]
  },
  {
   "cell_type": "markdown",
   "metadata": {},
   "source": [
    "## Conclusion\n",
    "\n",
    "This notebook has demonstrated:\n",
    "- Application of several edit distance algorithms to perform robust fuzzy matching.\n",
    "- Performance optimizations using BK Trees and parallel processing.\n",
    "- Additional matching techniques including n-gram and phonetic searches.\n",
    "\n",
    "These demonstrations illustrate how theoretical algorithms can be applied and optimized for real-world datasets,\n",
    "making the repository a valuable resource for both research and practical applications."
   ]
  }
 ],
 "metadata": {
  "kernelspec": {
   "display_name": "Python 3",
   "language": "python",
   "name": "python3"
  },
  "language_info": {
   "codemirror_mode": {
    "name": "ipython",
    "version": 3
   },
   "file_extension": ".py",
   "mimetype": "text/x-python",
   "name": "python",
   "nbconvert_exporter": "python",
   "pygments_lexer": "ipython3",
   "version": "3.12.4"
  }
 },
 "nbformat": 4,
 "nbformat_minor": 2
}
